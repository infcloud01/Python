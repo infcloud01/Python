{
 "cells": [
  {
   "cell_type": "markdown",
   "id": "9d57596a-a628-4de6-947f-7cf433bc4694",
   "metadata": {},
   "source": [
    "# DB_Project / Python for Data Engineering - EDX"
   ]
  },
  {
   "cell_type": "code",
   "execution_count": 43,
   "id": "3642d171-41f1-4b3c-bb6f-5a4c17fb9674",
   "metadata": {},
   "outputs": [],
   "source": [
    "import sqlite3\n",
    "import pandas as pd \n",
    "conn = sqlite3.connect('STAFF.db')"
   ]
  },
  {
   "cell_type": "code",
   "execution_count": 44,
   "id": "550c58e3-d4c6-4064-9a2b-10aeead7e377",
   "metadata": {},
   "outputs": [],
   "source": [
    "\n",
    "table_name = 'instructor'\n",
    "attribute_list = ['id', 'fname', 'lname', 'city', 'ccode']\n",
    "\n",
    "file_path = 'INSTRUCTOR.csv'\n",
    "df = pd.read_csv(file_path, names = attribute_list)"
   ]
  },
  {
   "cell_type": "code",
   "execution_count": 45,
   "id": "85d90ef8-b190-457b-9ff1-018c65602e14",
   "metadata": {},
   "outputs": [
    {
     "name": "stdout",
     "output_type": "stream",
     "text": [
      "Table is ready\n"
     ]
    }
   ],
   "source": [
    "df.to_sql(table_name, conn, if_exists = 'replace', index = False)\n",
    "print(\"Table is ready\")"
   ]
  },
  {
   "cell_type": "code",
   "execution_count": 46,
   "id": "e198e78c-97c4-4044-a8ad-25a7c44da149",
   "metadata": {},
   "outputs": [
    {
     "name": "stdout",
     "output_type": "stream",
     "text": [
      "SELECT * FROM instructor\n",
      "    id    fname      lname      city ccode\n",
      "0    1      Rav      Ahuja   TORONTO    CA\n",
      "1    2     Raul      Chong   Markham    CA\n",
      "2    3     Hima  Vasudevan   Chicago    US\n",
      "3    4     John     Thomas  Illinois    US\n",
      "4    5    Alice      James  Illinois    US\n",
      "5    6    Steve      Wells  Illinois    US\n",
      "6    7  Santosh      Kumar  Illinois    US\n",
      "7    8    Ahmed    Hussain  Illinois    US\n",
      "8    9    Nancy      Allen  Illinois    US\n",
      "9   10     Mary     Thomas  Illinois    US\n",
      "10  11  Bharath      Gupta  Illinois    US\n",
      "11  12   Andrea      Jones  Illinois    US\n",
      "12  13      Ann      Jacob  Illinois    US\n",
      "13  14     Amit      Kumar  NewDelhi    IN\n"
     ]
    }
   ],
   "source": [
    "query_statement = f\"SELECT * FROM {table_name}\"\n",
    "query_output = pd.read_sql(query_statement, conn)\n",
    "print(query_statement)\n",
    "print(query_output)"
   ]
  },
  {
   "cell_type": "code",
   "execution_count": 47,
   "id": "d19b0d72-bc7c-4885-8dc7-afcdd93c104b",
   "metadata": {},
   "outputs": [
    {
     "name": "stdout",
     "output_type": "stream",
     "text": [
      "SELECT fname FROM instructor\n",
      "      fname\n",
      "0       Rav\n",
      "1      Raul\n",
      "2      Hima\n",
      "3      John\n",
      "4     Alice\n",
      "5     Steve\n",
      "6   Santosh\n",
      "7     Ahmed\n",
      "8     Nancy\n",
      "9      Mary\n",
      "10  Bharath\n",
      "11   Andrea\n",
      "12      Ann\n",
      "13     Amit\n"
     ]
    }
   ],
   "source": [
    "query_statement = f\"SELECT fname FROM {table_name}\"\n",
    "query_output = pd.read_sql(query_statement, conn)\n",
    "print(query_statement)\n",
    "print(query_output)"
   ]
  },
  {
   "cell_type": "code",
   "execution_count": 48,
   "id": "5f0027a7-d137-4e9b-b251-3f1738cd093e",
   "metadata": {},
   "outputs": [
    {
     "name": "stdout",
     "output_type": "stream",
     "text": [
      "SELECT COUNT(*) FROM instructor\n",
      "   COUNT(*)\n",
      "0        14\n"
     ]
    }
   ],
   "source": [
    "query_statement = f\"SELECT COUNT(*) FROM {table_name}\"\n",
    "query_output = pd.read_sql(query_statement, conn)\n",
    "print(query_statement)\n",
    "print(query_output)"
   ]
  },
  {
   "cell_type": "code",
   "execution_count": 49,
   "id": "c549d6c8-73c7-4414-80b1-65088ea29477",
   "metadata": {},
   "outputs": [
    {
     "name": "stdout",
     "output_type": "stream",
     "text": [
      "Data appended successfully\n"
     ]
    }
   ],
   "source": [
    "data_dict = {'id' : [100],\n",
    "'fname' : ['John'],}\n",
    "\n",
    "data_append = pd.DataFrame(data_dict)\n",
    "data_append.to_sql(table_name, conn, if_exists ='append', index = False)\n",
    "print(\"Data appended successfully\")"
   ]
  },
  {
   "cell_type": "code",
   "execution_count": 50,
   "id": "8ca25646-9196-48bb-bbba-e5b0beb4eaf9",
   "metadata": {},
   "outputs": [
    {
     "name": "stdout",
     "output_type": "stream",
     "text": [
      "SELECT fname FROM instructor\n",
      "      fname\n",
      "0       Rav\n",
      "1      Raul\n",
      "2      Hima\n",
      "3      John\n",
      "4     Alice\n",
      "5     Steve\n",
      "6   Santosh\n",
      "7     Ahmed\n",
      "8     Nancy\n",
      "9      Mary\n",
      "10  Bharath\n",
      "11   Andrea\n",
      "12      Ann\n",
      "13     Amit\n",
      "14     John\n"
     ]
    }
   ],
   "source": [
    "query_statement = f\"SELECT fname FROM {table_name}\"\n",
    "query_output = pd.read_sql(query_statement, conn)\n",
    "print(query_statement)\n",
    "print(query_output)"
   ]
  },
  {
   "cell_type": "code",
   "execution_count": 51,
   "id": "2733850e-e894-409f-bc95-3c706c51c23d",
   "metadata": {},
   "outputs": [
    {
     "name": "stdout",
     "output_type": "stream",
     "text": [
      "SELECT COUNT(*) FROM instructor\n",
      "   COUNT(*)\n",
      "0        15\n"
     ]
    }
   ],
   "source": [
    "query_statement = f\"SELECT COUNT(*) FROM {table_name}\"\n",
    "query_output = pd.read_sql(query_statement, conn)\n",
    "print(query_statement)\n",
    "print(query_output)"
   ]
  },
  {
   "cell_type": "code",
   "execution_count": 52,
   "id": "f63d847a-02b6-47a7-996c-edfa94568005",
   "metadata": {},
   "outputs": [
    {
     "name": "stdout",
     "output_type": "stream",
     "text": [
      "Connection Closed\n"
     ]
    }
   ],
   "source": [
    "conn.close()\n",
    "print(\"Connection Closed\")"
   ]
  },
  {
   "cell_type": "code",
   "execution_count": 11,
   "id": "0ffbae5f-7dca-4b47-8953-c5a0c8df1e0f",
   "metadata": {},
   "outputs": [],
   "source": [
    "import sqlite3\n",
    "import pandas as pd \n",
    "sql_conn = sqlite3.connect('STAFF.db')"
   ]
  },
  {
   "cell_type": "code",
   "execution_count": 13,
   "id": "8824f148-90f8-4d4a-8604-219b02ae2d00",
   "metadata": {},
   "outputs": [],
   "source": [
    "table_name = 'departments'\n",
    "attribute_list = ['dept', 'dept_name', 'manager', 'loc_id']\n",
    "\n",
    "file_path = 'departments.csv'\n",
    "df = pd.read_csv(file_path, names = attribute_list)"
   ]
  },
  {
   "cell_type": "code",
   "execution_count": 15,
   "id": "4bae6e3a-1a23-42f6-975d-02693eb9cedf",
   "metadata": {},
   "outputs": [
    {
     "data": {
      "text/plain": [
       "3"
      ]
     },
     "execution_count": 15,
     "metadata": {},
     "output_type": "execute_result"
    }
   ],
   "source": [
    "df.to_sql(table_name, sql_conn, if_exists = 'replace', index = False)"
   ]
  },
  {
   "cell_type": "code",
   "execution_count": 18,
   "id": "464df638-75f2-4a3d-b617-029f9d85adab",
   "metadata": {},
   "outputs": [
    {
     "name": "stdout",
     "output_type": "stream",
     "text": [
      "SELECT * FROM departments\n",
      "   dept        dept_name  manager loc_id\n",
      "0     2  Architect Group    30001  L0001\n",
      "1     5   Software Group    30002  L0002\n",
      "2     7      Design Team    30003  L0003\n"
     ]
    }
   ],
   "source": [
    "query_statement = f\"SELECT * FROM {table_name}\"\n",
    "query_output = pd.read_sql(query_statement, sql_conn)\n",
    "print(query_statement)\n",
    "print(query_output)"
   ]
  },
  {
   "cell_type": "code",
   "execution_count": 19,
   "id": "f8135321-8a7d-43d0-a010-9e99b4532945",
   "metadata": {},
   "outputs": [
    {
     "data": {
      "text/html": [
       "<div>\n",
       "<style scoped>\n",
       "    .dataframe tbody tr th:only-of-type {\n",
       "        vertical-align: middle;\n",
       "    }\n",
       "\n",
       "    .dataframe tbody tr th {\n",
       "        vertical-align: top;\n",
       "    }\n",
       "\n",
       "    .dataframe thead th {\n",
       "        text-align: right;\n",
       "    }\n",
       "</style>\n",
       "<table border=\"1\" class=\"dataframe\">\n",
       "  <thead>\n",
       "    <tr style=\"text-align: right;\">\n",
       "      <th></th>\n",
       "      <th>dept</th>\n",
       "      <th>dept_name</th>\n",
       "      <th>manager</th>\n",
       "      <th>loc_id</th>\n",
       "    </tr>\n",
       "  </thead>\n",
       "  <tbody>\n",
       "    <tr>\n",
       "      <th>0</th>\n",
       "      <td>2</td>\n",
       "      <td>Architect Group</td>\n",
       "      <td>30001</td>\n",
       "      <td>L0001</td>\n",
       "    </tr>\n",
       "    <tr>\n",
       "      <th>1</th>\n",
       "      <td>5</td>\n",
       "      <td>Software Group</td>\n",
       "      <td>30002</td>\n",
       "      <td>L0002</td>\n",
       "    </tr>\n",
       "    <tr>\n",
       "      <th>2</th>\n",
       "      <td>7</td>\n",
       "      <td>Design Team</td>\n",
       "      <td>30003</td>\n",
       "      <td>L0003</td>\n",
       "    </tr>\n",
       "  </tbody>\n",
       "</table>\n",
       "</div>"
      ],
      "text/plain": [
       "   dept        dept_name  manager loc_id\n",
       "0     2  Architect Group    30001  L0001\n",
       "1     5   Software Group    30002  L0002\n",
       "2     7      Design Team    30003  L0003"
      ]
     },
     "execution_count": 19,
     "metadata": {},
     "output_type": "execute_result"
    }
   ],
   "source": [
    "pd.read_sql(query_statement, sql_conn)"
   ]
  },
  {
   "cell_type": "code",
   "execution_count": 31,
   "id": "2bf47cb0-a4c7-4b6a-bd1f-933cc6f1276f",
   "metadata": {},
   "outputs": [],
   "source": [
    "data_dict = {'dept' : [9], 'dept_name' : ['Quality Assurance'], 'manager' : [30010],}\n",
    "            "
   ]
  },
  {
   "cell_type": "code",
   "execution_count": 32,
   "id": "9bfd121d-d2fb-437f-bfdd-ee0784db4d47",
   "metadata": {},
   "outputs": [
    {
     "data": {
      "text/plain": [
       "1"
      ]
     },
     "execution_count": 32,
     "metadata": {},
     "output_type": "execute_result"
    }
   ],
   "source": [
    "data_append = pd.DataFrame(data_dict)\n",
    "data_append.to_sql(table_name, sql_conn, if_exists='append', index=False)"
   ]
  },
  {
   "cell_type": "code",
   "execution_count": 33,
   "id": "69439db5-c5a5-45ec-a7fb-037a6ca17b7b",
   "metadata": {},
   "outputs": [
    {
     "data": {
      "text/html": [
       "<div>\n",
       "<style scoped>\n",
       "    .dataframe tbody tr th:only-of-type {\n",
       "        vertical-align: middle;\n",
       "    }\n",
       "\n",
       "    .dataframe tbody tr th {\n",
       "        vertical-align: top;\n",
       "    }\n",
       "\n",
       "    .dataframe thead th {\n",
       "        text-align: right;\n",
       "    }\n",
       "</style>\n",
       "<table border=\"1\" class=\"dataframe\">\n",
       "  <thead>\n",
       "    <tr style=\"text-align: right;\">\n",
       "      <th></th>\n",
       "      <th>dept</th>\n",
       "      <th>dept_name</th>\n",
       "      <th>manager</th>\n",
       "      <th>loc_id</th>\n",
       "    </tr>\n",
       "  </thead>\n",
       "  <tbody>\n",
       "    <tr>\n",
       "      <th>0</th>\n",
       "      <td>2</td>\n",
       "      <td>Architect Group</td>\n",
       "      <td>30001.0</td>\n",
       "      <td>L0001</td>\n",
       "    </tr>\n",
       "    <tr>\n",
       "      <th>1</th>\n",
       "      <td>5</td>\n",
       "      <td>Software Group</td>\n",
       "      <td>30002.0</td>\n",
       "      <td>L0002</td>\n",
       "    </tr>\n",
       "    <tr>\n",
       "      <th>2</th>\n",
       "      <td>7</td>\n",
       "      <td>Design Team</td>\n",
       "      <td>30003.0</td>\n",
       "      <td>L0003</td>\n",
       "    </tr>\n",
       "    <tr>\n",
       "      <th>3</th>\n",
       "      <td>9</td>\n",
       "      <td>Quality Assurance</td>\n",
       "      <td>NaN</td>\n",
       "      <td>None</td>\n",
       "    </tr>\n",
       "    <tr>\n",
       "      <th>4</th>\n",
       "      <td>9</td>\n",
       "      <td>Quality Assurance</td>\n",
       "      <td>30010.0</td>\n",
       "      <td>None</td>\n",
       "    </tr>\n",
       "  </tbody>\n",
       "</table>\n",
       "</div>"
      ],
      "text/plain": [
       "   dept          dept_name  manager loc_id\n",
       "0     2    Architect Group  30001.0  L0001\n",
       "1     5     Software Group  30002.0  L0002\n",
       "2     7        Design Team  30003.0  L0003\n",
       "3     9  Quality Assurance      NaN   None\n",
       "4     9  Quality Assurance  30010.0   None"
      ]
     },
     "execution_count": 33,
     "metadata": {},
     "output_type": "execute_result"
    }
   ],
   "source": [
    "pd.read_sql(query_statement, sql_conn)"
   ]
  },
  {
   "cell_type": "code",
   "execution_count": 34,
   "id": "2bcb1b6c-0450-4029-8e7f-bc8eee30ea59",
   "metadata": {},
   "outputs": [],
   "source": [
    "query_statement = f\"SELECT dept_name FROM {table_name}\"\n",
    "query_output = pd.read_sql(query_statement, sql_conn)"
   ]
  },
  {
   "cell_type": "code",
   "execution_count": 35,
   "id": "41205789-9dbd-47c0-a79d-2e169934fc8a",
   "metadata": {},
   "outputs": [
    {
     "name": "stdout",
     "output_type": "stream",
     "text": [
      "           dept_name\n",
      "0    Architect Group\n",
      "1     Software Group\n",
      "2        Design Team\n",
      "3  Quality Assurance\n",
      "4  Quality Assurance\n"
     ]
    }
   ],
   "source": [
    "print(query_output)"
   ]
  },
  {
   "cell_type": "code",
   "execution_count": 38,
   "id": "d7eeb847-a288-4f64-ae40-64d1764fda09",
   "metadata": {},
   "outputs": [],
   "source": [
    "query_statement = f\"SELECT COUNT(*) FROM {table_name}\"\n",
    "query_output = pd.read_sql(query_statement, sql_conn)"
   ]
  },
  {
   "cell_type": "code",
   "execution_count": 41,
   "id": "f9cc3c69-795f-4514-b9b7-4df25ff3a6cc",
   "metadata": {},
   "outputs": [
    {
     "name": "stdout",
     "output_type": "stream",
     "text": [
      "   COUNT(*)\n",
      "0         5\n"
     ]
    }
   ],
   "source": [
    "print(query_output)"
   ]
  },
  {
   "cell_type": "code",
   "execution_count": null,
   "id": "acf98791-0908-41cc-a39e-48cb06db73de",
   "metadata": {},
   "outputs": [],
   "source": []
  }
 ],
 "metadata": {
  "kernelspec": {
   "display_name": "anaconda-panel-2023.05-py310",
   "language": "python",
   "name": "conda-env-anaconda-panel-2023.05-py310-py"
  },
  "language_info": {
   "codemirror_mode": {
    "name": "ipython",
    "version": 3
   },
   "file_extension": ".py",
   "mimetype": "text/x-python",
   "name": "python",
   "nbconvert_exporter": "python",
   "pygments_lexer": "ipython3",
   "version": "3.11.5"
  }
 },
 "nbformat": 4,
 "nbformat_minor": 5
}
