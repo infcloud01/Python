{
 "cells": [
  {
   "cell_type": "code",
   "execution_count": 1,
   "id": "ff06671a-8261-4ef7-8874-0192ec2417f0",
   "metadata": {},
   "outputs": [],
   "source": [
    "import requests\n",
    "import sqlite3\n",
    "import pandas as pd\n",
    "from bs4 import BeautifulSoup"
   ]
  },
  {
   "cell_type": "code",
   "execution_count": 2,
   "id": "d6667a9c-5906-46e3-a769-cbee67677223",
   "metadata": {},
   "outputs": [],
   "source": [
    "url = 'https://web.archive.org/web/20230902185655/https://en.everybodywiki.com/100_Most_Highly-Ranked_Films'\n",
    "db_name = 'movies.db'\n",
    "table_name ='top_50'\n",
    "csv_path = 'top_50.csv'\n",
    "df = pd.DataFrame(columns=[\"Average Rank\", \"Film\", \"Year\"])\n",
    "count =0\n"
   ]
  },
  {
   "cell_type": "code",
   "execution_count": 3,
   "id": "e247d9d7-6a94-4a74-8a56-33a9bc321d90",
   "metadata": {},
   "outputs": [],
   "source": [
    "html_page = requests.get(url).text\n",
    "data = BeautifulSoup(html_page, 'html.parser')"
   ]
  },
  {
   "cell_type": "code",
   "execution_count": 4,
   "id": "0e791fde-cb74-486c-ae25-b321ea77c9cd",
   "metadata": {},
   "outputs": [],
   "source": [
    "tables = data.find_all('tbody')\n",
    "rows = tables[0].find_all('tr')"
   ]
  },
  {
   "cell_type": "code",
   "execution_count": 5,
   "id": "056da645-e3c2-409a-9cc1-54020e9d86f2",
   "metadata": {},
   "outputs": [],
   "source": [
    "for row in rows:\n",
    "    if count<50:\n",
    "        col = row.find_all('td')\n",
    "        if len(col)!=0:\n",
    "            data_dict = {\"Average Rank\": col[0].contents[0],\n",
    "                         \"Film\": col[1].contents[0],\n",
    "                         \"Year\": col[2].contents[0]}\n",
    "            df1 = pd.DataFrame(data_dict, index[0])\n",
    "            df = pd.concat([df,df1], ignore_index=True)\n",
    "            count+=1\n",
    "        else:\n",
    "            break"
   ]
  },
  {
   "cell_type": "code",
   "execution_count": 6,
   "id": "dce8f624-08f7-4e67-8475-605618bc67e3",
   "metadata": {},
   "outputs": [
    {
     "name": "stdout",
     "output_type": "stream",
     "text": [
      "Empty DataFrame\n",
      "Columns: [Average Rank, Film, Year]\n",
      "Index: []\n"
     ]
    }
   ],
   "source": [
    "print(df)"
   ]
  },
  {
   "cell_type": "code",
   "execution_count": 7,
   "id": "c4fd08b2-a1d7-479b-aa75-c5a1b879584d",
   "metadata": {},
   "outputs": [],
   "source": [
    "import pandas as pd\n",
    "\n",
    "df = pd.DataFrame(columns=[\"Average Rank\",\"Film\",\"Year\"])\n",
    "\n",
    "for i, row in enumerate(rows):\n",
    "    # skip the first 50 rows\n",
    "    if i < 50:\n",
    "        continue\n",
    "\n",
    "    cols = row.find_all('td')\n",
    "    if not cols:\n",
    "        break\n",
    "\n",
    "    data = {\n",
    "        \"Average Rank\": cols[0].get_text(strip=True),\n",
    "        \"Film\":         cols[1].get_text(strip=True),\n",
    "        \"Year\":         cols[2].get_text(strip=True)\n",
    "    }\n",
    "\n",
    "    # make a one-row df and append\n",
    "    df1 = pd.DataFrame([data])\n",
    "    df = pd.concat([df, df1], ignore_index=True)"
   ]
  },
  {
   "cell_type": "code",
   "execution_count": 8,
   "id": "0cbd3c36-31db-4d64-8b5d-c3ab5df4ab4c",
   "metadata": {},
   "outputs": [
    {
     "name": "stdout",
     "output_type": "stream",
     "text": [
      "   Average Rank                                               Film      Year\n",
      "0            50                                      All About Eve      1950\n",
      "1            51                                        The General      1926\n",
      "2            52                        Terminator 2: Judgement Day      1991\n",
      "3            53                                              Se7en      1995\n",
      "4            54                                        Raging Bull      1980\n",
      "5            55                                       Interstellar      2014\n",
      "6            56                                               Jaws      1975\n",
      "7            57                                   Some Like it Hot      1959\n",
      "8            58                             The Philadelphia Story      1940\n",
      "9            59                             Avengers: Infinity War      2018\n",
      "10           60                                          Gladiator      2000\n",
      "11           61                                  On the Waterfront      1954\n",
      "12           62                                            Get Out      2017\n",
      "13           63                                          Moonlight      2016\n",
      "14           64                                      Spirited Away      2001\n",
      "15           65                                          Lady Bird      2017\n",
      "16           66                                             Aliens      1986\n",
      "17           67                                       Forrest Gump      1994\n",
      "18           68                   Snow White and the Seven Dwarves      1937\n",
      "19           69                                      Black Panther      2018\n",
      "20           70                                           Whiplash      2014\n",
      "21           71                                        The Shining      1980\n",
      "22           72                                         Metropolis      1927\n",
      "23           73                                 The Maltese Falcon      1941\n",
      "24           74                                          Chinatown      1974\n",
      "25           75                        The Best Years of Our Lives      1946\n",
      "26           76                                   Mulholland Drive      2001\n",
      "27           77                               In the Mood for Love      2000\n",
      "28           78                                      A Quiet Place      2018\n",
      "29           79  Dr. Strangelove or: How I Learned to Stop Worr...      1964\n",
      "30           80                                               Coco      2017\n",
      "31           81                                      The Third Man      1949\n",
      "32           82                                 The Usual Suspects      1995\n",
      "33           83                                 La Grande Illusion      1937\n",
      "34           84                       Once Upon a Time in the West      1968\n",
      "35           85                               A Night at the Opera      1935\n",
      "36           86                                              Logan      2017\n",
      "37           87                                     Thor: Ragnarok      2017\n",
      "38           88                             Léon: The Professional      1994\n",
      "39           89                                          King Kong      1933\n",
      "40           90              Eternal Sunshine of the Spotless Mind      2004\n",
      "41           91                                            Arrival      2016\n",
      "42           92                         Portrait of a Lady on Fire      2020\n",
      "43           93                                          Nashville      1975\n",
      "44           94                                        Intolerance      1916\n",
      "45           95                                         La La Land      2016\n",
      "46           96                                 Do the Right Thing  unranked\n",
      "47           97                               Inglourious Basterds      2009\n",
      "48           98                              The Battle of Algiers      1966\n",
      "49           99                                                  M      1931\n",
      "50          100                                     The Wild Bunch      1969\n",
      "51          101                      Star Wars: Return of the Jedi      1983\n",
      "52          102                                 A Clockwork Orange      1971\n",
      "53          103                                    LA Confidential      1997\n",
      "54          104                                            Titanic      1997\n",
      "55          105                                          Toy Story      1995\n",
      "56          106                                     Reservoir Dogs      1992\n",
      "57          107                                       Paddington 2      2018\n",
      "58          108                                             Amelie      2001\n"
     ]
    }
   ],
   "source": [
    "print(df)"
   ]
  },
  {
   "cell_type": "code",
   "execution_count": 9,
   "id": "ad9b40dd-3cf5-40ae-bec6-236f021a6728",
   "metadata": {},
   "outputs": [],
   "source": [
    "import pandas as pd\n",
    "\n",
    "df = pd.DataFrame(columns=[\"Average Rank\",\"Film\",\"Year\"])\n",
    "\n",
    "for i, row in enumerate(rows):\n",
    "    # stop after 50 rows\n",
    "    if i >= 50:\n",
    "        break\n",
    "\n",
    "    cols = row.find_all('td')\n",
    "    if not cols:\n",
    "        # you can choose to skip or break here if you prefer\n",
    "        continue\n",
    "\n",
    "    data = {\n",
    "        \"Average Rank\": cols[0].get_text(strip=True),\n",
    "        \"Film\":         cols[1].get_text(strip=True),\n",
    "        \"Year\":         cols[2].get_text(strip=True),\n",
    "    }\n",
    "\n",
    "    # build one-row DataFrame and append\n",
    "    df1 = pd.DataFrame([data])\n",
    "    df = pd.concat([df, df1], ignore_index=True)"
   ]
  },
  {
   "cell_type": "code",
   "execution_count": 10,
   "id": "18eb449a-bc48-43c2-9187-2466e2d46614",
   "metadata": {},
   "outputs": [
    {
     "name": "stdout",
     "output_type": "stream",
     "text": [
      "   Average Rank                                           Film  Year\n",
      "0             1                                  The Godfather  1972\n",
      "1             2                                   Citizen Kane  1941\n",
      "2             3                                     Casablanca  1942\n",
      "3             4                         The Godfather, Part II  1974\n",
      "4             5                            Singin' in the Rain  1952\n",
      "5             6                                         Psycho  1960\n",
      "6             7                                    Rear Window  1954\n",
      "7             8                                 Apocalypse Now  1979\n",
      "8             9                          2001: A Space Odyssey  1968\n",
      "9            10                                  Seven Samurai  1954\n",
      "10           11                                        Vertigo  1958\n",
      "11           12                                    Sunset Blvd  1950\n",
      "12           13                                   Modern Times  1936\n",
      "13           14                             Lawrence of Arabia  1962\n",
      "14           15                             North by Northwest  1959\n",
      "15           16                                      Star Wars  1977\n",
      "16           17                                       Parasite  2019\n",
      "17           18                               Schindler's List  1993\n",
      "18           19  Lord of the Rings: The Fellowship of the Ring  2001\n",
      "19           20                           Shawshank Redemption  1994\n",
      "20           21                          It's a Wonderful Life  1946\n",
      "21           22                                   Pulp Fiction  1994\n",
      "22           23                              Avengers: Endgame  2019\n",
      "23           24                                    City Lights  1931\n",
      "24           25                One Flew Over the Cuckoo's Nest  1975\n",
      "25           26                                     Goodfellas  1990\n",
      "26           27                        Raiders of the Lost Ark  1981\n",
      "27           28                                   12 Angry Men  1957\n",
      "28           29                       The Silence of the Lambs  1991\n",
      "29           30                                    Taxi Driver  1976\n",
      "30           31                            Saving Private Ryan  1998\n",
      "31           32                     E.T. the Extra Terrestrial  1982\n",
      "32           33                                          Alien  1979\n",
      "33           34              Spider-Man: Into the Spider-verse  2018\n",
      "34           35                                   Blade Runner  1982\n",
      "35           36                               Double Indemnity  1944\n",
      "36           37                                The Dark Knight  2008\n",
      "37           38                               The Wizard of Oz  1939\n",
      "38           39  Star Wars: Episode V- The Empire Strikes Back  1980\n",
      "39           40                                  The Searchers  1956\n",
      "40           41                             Mad Max: Fury Road  2015\n",
      "41           42                                      Inception  2010\n",
      "42           43          Lord of the Rings: Return of the King  2003\n",
      "43           44                                     The Matrix  1999\n",
      "44           45                                     Fight Club  1999\n",
      "45           46                             Back to the Future  1985\n",
      "46           47                          It Happened One Night  1934\n",
      "47           48                The Good, the Bad, and the Ugly  1966\n",
      "48           49              Lord of the Rings: The Two Towers  2002\n"
     ]
    }
   ],
   "source": [
    "print(df)"
   ]
  },
  {
   "cell_type": "code",
   "execution_count": 11,
   "id": "d357cd18-1510-4703-95dc-1c57ddcb059f",
   "metadata": {},
   "outputs": [],
   "source": [
    "import pandas as pd\n",
    "\n",
    "# Create a list to store row data\n",
    "data_list = []\n",
    "\n",
    "# Loop through the first 50 rows only\n",
    "for i, row in enumerate(rows):\n",
    "    if i >= 50:\n",
    "        break\n",
    "\n",
    "    cols = row.find_all('td')\n",
    "    if not cols or len(cols) < 3:\n",
    "        continue\n",
    "\n",
    "    # Append dictionary to the list\n",
    "    data_list.append({\n",
    "        \"Average Rank\": cols[0].get_text(strip=True),\n",
    "        \"Film\":         cols[1].get_text(strip=True),\n",
    "        \"Year\":         cols[2].get_text(strip=True),\n",
    "    })\n",
    "\n",
    "# Create the DataFrame once from the list\n",
    "df = pd.DataFrame(data_list)\n"
   ]
  },
  {
   "cell_type": "code",
   "execution_count": 12,
   "id": "032f2ebe-44a6-4786-9416-6e5ee2d70409",
   "metadata": {},
   "outputs": [
    {
     "name": "stdout",
     "output_type": "stream",
     "text": [
      "   Average Rank                                           Film  Year\n",
      "0             1                                  The Godfather  1972\n",
      "1             2                                   Citizen Kane  1941\n",
      "2             3                                     Casablanca  1942\n",
      "3             4                         The Godfather, Part II  1974\n",
      "4             5                            Singin' in the Rain  1952\n",
      "5             6                                         Psycho  1960\n",
      "6             7                                    Rear Window  1954\n",
      "7             8                                 Apocalypse Now  1979\n",
      "8             9                          2001: A Space Odyssey  1968\n",
      "9            10                                  Seven Samurai  1954\n",
      "10           11                                        Vertigo  1958\n",
      "11           12                                    Sunset Blvd  1950\n",
      "12           13                                   Modern Times  1936\n",
      "13           14                             Lawrence of Arabia  1962\n",
      "14           15                             North by Northwest  1959\n",
      "15           16                                      Star Wars  1977\n",
      "16           17                                       Parasite  2019\n",
      "17           18                               Schindler's List  1993\n",
      "18           19  Lord of the Rings: The Fellowship of the Ring  2001\n",
      "19           20                           Shawshank Redemption  1994\n",
      "20           21                          It's a Wonderful Life  1946\n",
      "21           22                                   Pulp Fiction  1994\n",
      "22           23                              Avengers: Endgame  2019\n",
      "23           24                                    City Lights  1931\n",
      "24           25                One Flew Over the Cuckoo's Nest  1975\n",
      "25           26                                     Goodfellas  1990\n",
      "26           27                        Raiders of the Lost Ark  1981\n",
      "27           28                                   12 Angry Men  1957\n",
      "28           29                       The Silence of the Lambs  1991\n",
      "29           30                                    Taxi Driver  1976\n",
      "30           31                            Saving Private Ryan  1998\n",
      "31           32                     E.T. the Extra Terrestrial  1982\n",
      "32           33                                          Alien  1979\n",
      "33           34              Spider-Man: Into the Spider-verse  2018\n",
      "34           35                                   Blade Runner  1982\n",
      "35           36                               Double Indemnity  1944\n",
      "36           37                                The Dark Knight  2008\n",
      "37           38                               The Wizard of Oz  1939\n",
      "38           39  Star Wars: Episode V- The Empire Strikes Back  1980\n",
      "39           40                                  The Searchers  1956\n",
      "40           41                             Mad Max: Fury Road  2015\n",
      "41           42                                      Inception  2010\n",
      "42           43          Lord of the Rings: Return of the King  2003\n",
      "43           44                                     The Matrix  1999\n",
      "44           45                                     Fight Club  1999\n",
      "45           46                             Back to the Future  1985\n",
      "46           47                          It Happened One Night  1934\n",
      "47           48                The Good, the Bad, and the Ugly  1966\n",
      "48           49              Lord of the Rings: The Two Towers  2002\n"
     ]
    }
   ],
   "source": [
    "print(df)"
   ]
  },
  {
   "cell_type": "code",
   "execution_count": 13,
   "id": "312097ac-5e2c-44e2-b0d3-5a0146ea7094",
   "metadata": {},
   "outputs": [
    {
     "name": "stdout",
     "output_type": "stream",
     "text": [
      "top_50.csv\n"
     ]
    }
   ],
   "source": [
    "print(csv_path)"
   ]
  },
  {
   "cell_type": "code",
   "execution_count": 14,
   "id": "0e6d3a97-adf5-4fb5-9048-ddac8d41757c",
   "metadata": {},
   "outputs": [],
   "source": [
    "df.to_csv('top_50.csv')"
   ]
  },
  {
   "cell_type": "code",
   "execution_count": 15,
   "id": "cd4c3c14-bb92-424e-8f52-de9ac06be5d2",
   "metadata": {},
   "outputs": [],
   "source": [
    "conn = sqlite3.connect(db_name)"
   ]
  },
  {
   "cell_type": "code",
   "execution_count": 16,
   "id": "5ebcb2f8-c122-469e-b216-604d3fd42b97",
   "metadata": {},
   "outputs": [
    {
     "name": "stdout",
     "output_type": "stream",
     "text": [
      "top_50\n"
     ]
    }
   ],
   "source": [
    "print(table_name)"
   ]
  },
  {
   "cell_type": "code",
   "execution_count": 18,
   "id": "de3fe5e2-0de0-4c16-82a5-90bd560a0ee9",
   "metadata": {},
   "outputs": [
    {
     "data": {
      "text/plain": [
       "49"
      ]
     },
     "execution_count": 18,
     "metadata": {},
     "output_type": "execute_result"
    }
   ],
   "source": [
    "df.to_sql(table_name, conn, if_exists='replace', index=False)"
   ]
  },
  {
   "cell_type": "code",
   "execution_count": 19,
   "id": "b92dfad5-f3e3-4da1-8a6c-6ab65a042e7a",
   "metadata": {},
   "outputs": [],
   "source": [
    "conn.close()"
   ]
  }
 ],
 "metadata": {
  "kernelspec": {
   "display_name": "anaconda-panel-2023.05-py310",
   "language": "python",
   "name": "conda-env-anaconda-panel-2023.05-py310-py"
  },
  "language_info": {
   "codemirror_mode": {
    "name": "ipython",
    "version": 3
   },
   "file_extension": ".py",
   "mimetype": "text/x-python",
   "name": "python",
   "nbconvert_exporter": "python",
   "pygments_lexer": "ipython3",
   "version": "3.11.5"
  }
 },
 "nbformat": 4,
 "nbformat_minor": 5
}
