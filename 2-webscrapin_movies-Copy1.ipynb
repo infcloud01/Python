{
 "cells": [
  {
   "cell_type": "code",
   "execution_count": 1,
   "id": "ff06671a-8261-4ef7-8874-0192ec2417f0",
   "metadata": {},
   "outputs": [],
   "source": [
    "import requests\n",
    "import sqlite3\n",
    "import pandas as pd\n",
    "from bs4 import BeautifulSoup"
   ]
  },
  {
   "cell_type": "code",
   "execution_count": 2,
   "id": "d6667a9c-5906-46e3-a769-cbee67677223",
   "metadata": {},
   "outputs": [],
   "source": [
    "url = 'https://web.archive.org/web/20230902185655/https://en.everybodywiki.com/100_Most_Highly-Ranked_Films'\n",
    "db_name = 'movies.db'\n",
    "table_name ='top_50'\n",
    "csv_path = 'top_50.csv'\n",
    "df = pd.DataFrame(columns=[\"Film\", \"Year\", \"Rotten 100\"])\n",
    "count =0\n"
   ]
  },
  {
   "cell_type": "code",
   "execution_count": 3,
   "id": "e247d9d7-6a94-4a74-8a56-33a9bc321d90",
   "metadata": {},
   "outputs": [],
   "source": [
    "html_page = requests.get(url).text\n",
    "data = BeautifulSoup(html_page, 'html.parser')"
   ]
  },
  {
   "cell_type": "code",
   "execution_count": 4,
   "id": "0e791fde-cb74-486c-ae25-b321ea77c9cd",
   "metadata": {},
   "outputs": [],
   "source": [
    "tables = data.find_all('tbody')\n",
    "rows = tables[0].find_all('tr')"
   ]
  },
  {
   "cell_type": "code",
   "execution_count": 5,
   "id": "7de1fca9-cc59-46cf-a703-f3bb05f075c7",
   "metadata": {},
   "outputs": [],
   "source": [
    "data_list=[]"
   ]
  },
  {
   "cell_type": "code",
   "execution_count": 6,
   "id": "de647457-c886-43f5-a904-88cec156cf55",
   "metadata": {},
   "outputs": [],
   "source": [
    "for i, row in enumerate(rows):\n",
    "    # Skip header row (which uses <th> instead of <td>)\n",
    "    if row.find('th'):\n",
    "        continue\n",
    "        \n",
    "for i, row in enumerate(rows):\n",
    "    if i >=25:\n",
    "        break\n",
    "\n",
    "    cols = row.find_all('td')\n",
    "    if not cols or len(cols) < 4:\n",
    "        continue\n",
    "\n",
    "    data_list.append({\n",
    "        \"Film\": cols[1].get_text(strip=True),\n",
    "        \"Year\": cols[2].get_text(strip=True),\n",
    "        \"Rotten 100\": cols[3].get_text(strip=True),\n",
    "})\n",
    "\n",
    "df=pd.DataFrame(data_list)"
   ]
  },
  {
   "cell_type": "code",
   "execution_count": 7,
   "id": "79acf730-9c67-4bd9-b950-e54fa47f7418",
   "metadata": {},
   "outputs": [
    {
     "name": "stdout",
     "output_type": "stream",
     "text": [
      "[{'Film': 'The Godfather', 'Year': '1972', 'Rotten 100': '17'}, {'Film': 'Citizen Kane', 'Year': '1941', 'Rotten 100': '2'}, {'Film': 'Casablanca', 'Year': '1942', 'Rotten 100': '8'}, {'Film': 'The Godfather, Part II', 'Year': '1974', 'Rotten 100': '99'}, {'Film': \"Singin' in the Rain\", 'Year': '1952', 'Rotten 100': '52'}, {'Film': 'Psycho', 'Year': '1960', 'Rotten 100': '88'}, {'Film': 'Rear Window', 'Year': '1954', 'Rotten 100': '47'}, {'Film': 'Apocalypse Now', 'Year': '1979', 'Rotten 100': 'unranked'}, {'Film': '2001: A Space Odyssey', 'Year': '1968', 'Rotten 100': 'unranked'}, {'Film': 'Seven Samurai', 'Year': '1954', 'Rotten 100': '49'}, {'Film': 'Vertigo', 'Year': '1958', 'Rotten 100': 'unranked'}, {'Film': 'Sunset Blvd', 'Year': '1950', 'Rotten 100': '21'}, {'Film': 'Modern Times', 'Year': '1936', 'Rotten 100': '4'}, {'Film': 'Lawrence of Arabia', 'Year': '1962', 'Rotten 100': 'unranked'}, {'Film': 'North by Northwest', 'Year': '1959', 'Rotten 100': '79'}, {'Film': 'Star Wars', 'Year': '1977', 'Rotten 100': 'unranked'}, {'Film': 'Parasite', 'Year': '2019', 'Rotten 100': '6'}, {'Film': \"Schindler's List\", 'Year': '1993', 'Rotten 100': 'unranked'}, {'Film': 'Lord of the Rings: The Fellowship of the Ring', 'Year': '2001', 'Rotten 100': 'unranked'}, {'Film': 'Shawshank Redemption', 'Year': '1994', 'Rotten 100': 'unranked'}, {'Film': \"It's a Wonderful Life\", 'Year': '1946', 'Rotten 100': 'unranked'}, {'Film': 'Pulp Fiction', 'Year': '1994', 'Rotten 100': 'unranked'}, {'Film': 'Avengers: Endgame', 'Year': '2019', 'Rotten 100': '7'}, {'Film': 'City Lights', 'Year': '1931', 'Rotten 100': 'unranked'}]\n"
     ]
    }
   ],
   "source": [
    "print(data_list)"
   ]
  },
  {
   "cell_type": "code",
   "execution_count": 8,
   "id": "d1f25da1-ab0f-4384-83ef-968e151aeb43",
   "metadata": {},
   "outputs": [
    {
     "name": "stdout",
     "output_type": "stream",
     "text": [
      "                                             Film  Year Rotten 100\n",
      "0                                   The Godfather  1972         17\n",
      "1                                    Citizen Kane  1941          2\n",
      "2                                      Casablanca  1942          8\n",
      "3                          The Godfather, Part II  1974         99\n",
      "4                             Singin' in the Rain  1952         52\n",
      "5                                          Psycho  1960         88\n",
      "6                                     Rear Window  1954         47\n",
      "7                                  Apocalypse Now  1979   unranked\n",
      "8                           2001: A Space Odyssey  1968   unranked\n",
      "9                                   Seven Samurai  1954         49\n",
      "10                                        Vertigo  1958   unranked\n",
      "11                                    Sunset Blvd  1950         21\n",
      "12                                   Modern Times  1936          4\n",
      "13                             Lawrence of Arabia  1962   unranked\n",
      "14                             North by Northwest  1959         79\n",
      "15                                      Star Wars  1977   unranked\n",
      "16                                       Parasite  2019          6\n",
      "17                               Schindler's List  1993   unranked\n",
      "18  Lord of the Rings: The Fellowship of the Ring  2001   unranked\n",
      "19                           Shawshank Redemption  1994   unranked\n",
      "20                          It's a Wonderful Life  1946   unranked\n",
      "21                                   Pulp Fiction  1994   unranked\n",
      "22                              Avengers: Endgame  2019          7\n",
      "23                                    City Lights  1931   unranked\n"
     ]
    }
   ],
   "source": [
    "print(df)"
   ]
  },
  {
   "cell_type": "code",
   "execution_count": 9,
   "id": "772cf78f-2d99-4f6a-a46a-45b879bb7e4f",
   "metadata": {},
   "outputs": [
    {
     "data": {
      "text/plain": [
       "0                                     The Godfather\n",
       "1                                      Citizen Kane\n",
       "2                                        Casablanca\n",
       "3                            The Godfather, Part II\n",
       "4                               Singin' in the Rain\n",
       "5                                            Psycho\n",
       "6                                       Rear Window\n",
       "7                                    Apocalypse Now\n",
       "8                             2001: A Space Odyssey\n",
       "9                                     Seven Samurai\n",
       "10                                          Vertigo\n",
       "11                                      Sunset Blvd\n",
       "12                                     Modern Times\n",
       "13                               Lawrence of Arabia\n",
       "14                               North by Northwest\n",
       "15                                        Star Wars\n",
       "16                                         Parasite\n",
       "17                                 Schindler's List\n",
       "18    Lord of the Rings: The Fellowship of the Ring\n",
       "19                             Shawshank Redemption\n",
       "20                            It's a Wonderful Life\n",
       "21                                     Pulp Fiction\n",
       "22                                Avengers: Endgame\n",
       "23                                      City Lights\n",
       "Name: Film, dtype: object"
      ]
     },
     "execution_count": 9,
     "metadata": {},
     "output_type": "execute_result"
    }
   ],
   "source": [
    "df[\"Film\"]"
   ]
  },
  {
   "cell_type": "code",
   "execution_count": 15,
   "id": "d2c230e2-ddcf-454d-9305-df08e12a4f21",
   "metadata": {},
   "outputs": [
    {
     "data": {
      "text/html": [
       "<div>\n",
       "<style scoped>\n",
       "    .dataframe tbody tr th:only-of-type {\n",
       "        vertical-align: middle;\n",
       "    }\n",
       "\n",
       "    .dataframe tbody tr th {\n",
       "        vertical-align: top;\n",
       "    }\n",
       "\n",
       "    .dataframe thead th {\n",
       "        text-align: right;\n",
       "    }\n",
       "</style>\n",
       "<table border=\"1\" class=\"dataframe\">\n",
       "  <thead>\n",
       "    <tr style=\"text-align: right;\">\n",
       "      <th></th>\n",
       "      <th>Film</th>\n",
       "      <th>Year</th>\n",
       "      <th>Rotten 100</th>\n",
       "    </tr>\n",
       "  </thead>\n",
       "  <tbody>\n",
       "    <tr>\n",
       "      <th>0</th>\n",
       "      <td>The Godfather</td>\n",
       "      <td>1972</td>\n",
       "      <td>17</td>\n",
       "    </tr>\n",
       "  </tbody>\n",
       "</table>\n",
       "</div>"
      ],
      "text/plain": [
       "            Film  Year Rotten 100\n",
       "0  The Godfather  1972         17"
      ]
     },
     "execution_count": 15,
     "metadata": {},
     "output_type": "execute_result"
    }
   ],
   "source": [
    "df[df[\"Film\"] == \"The Godfather\"]"
   ]
  },
  {
   "cell_type": "code",
   "execution_count": 18,
   "id": "8a3cadef-cb7b-4d18-955a-0b01dccf8da5",
   "metadata": {},
   "outputs": [
    {
     "data": {
      "text/html": [
       "<div>\n",
       "<style scoped>\n",
       "    .dataframe tbody tr th:only-of-type {\n",
       "        vertical-align: middle;\n",
       "    }\n",
       "\n",
       "    .dataframe tbody tr th {\n",
       "        vertical-align: top;\n",
       "    }\n",
       "\n",
       "    .dataframe thead th {\n",
       "        text-align: right;\n",
       "    }\n",
       "</style>\n",
       "<table border=\"1\" class=\"dataframe\">\n",
       "  <thead>\n",
       "    <tr style=\"text-align: right;\">\n",
       "      <th></th>\n",
       "      <th>Film</th>\n",
       "      <th>Year</th>\n",
       "      <th>Rotten 100</th>\n",
       "    </tr>\n",
       "  </thead>\n",
       "  <tbody>\n",
       "    <tr>\n",
       "      <th>16</th>\n",
       "      <td>Parasite</td>\n",
       "      <td>2019</td>\n",
       "      <td>6</td>\n",
       "    </tr>\n",
       "    <tr>\n",
       "      <th>18</th>\n",
       "      <td>Lord of the Rings: The Fellowship of the Ring</td>\n",
       "      <td>2001</td>\n",
       "      <td>unranked</td>\n",
       "    </tr>\n",
       "    <tr>\n",
       "      <th>22</th>\n",
       "      <td>Avengers: Endgame</td>\n",
       "      <td>2019</td>\n",
       "      <td>7</td>\n",
       "    </tr>\n",
       "  </tbody>\n",
       "</table>\n",
       "</div>"
      ],
      "text/plain": [
       "                                             Film  Year Rotten 100\n",
       "16                                       Parasite  2019          6\n",
       "18  Lord of the Rings: The Fellowship of the Ring  2001   unranked\n",
       "22                              Avengers: Endgame  2019          7"
      ]
     },
     "execution_count": 18,
     "metadata": {},
     "output_type": "execute_result"
    }
   ],
   "source": [
    "df[df[\"Year\"].astype(int) > 1999]"
   ]
  },
  {
   "cell_type": "code",
   "execution_count": 20,
   "id": "044b7075-b4bb-4b10-a818-a48f6eb7e804",
   "metadata": {},
   "outputs": [
    {
     "data": {
      "text/plain": [
       "'6'"
      ]
     },
     "execution_count": 20,
     "metadata": {},
     "output_type": "execute_result"
    }
   ],
   "source": [
    "df[df[\"Film\"] == \"Parasite\"][\"Rotten 100\"].values[0]"
   ]
  },
  {
   "cell_type": "code",
   "execution_count": 29,
   "id": "ca831f28-c26d-4dae-bb43-cf916b20ce25",
   "metadata": {},
   "outputs": [],
   "source": [
    "recent = df[\n",
    "(df[\"Year\"].astype(int) > 1999) &\n",
    "(df[\"Year\"].astype(int) < 2025)\n",
    "]"
   ]
  },
  {
   "cell_type": "code",
   "execution_count": 30,
   "id": "44d638ae-3b3d-4003-b4a2-4ea528a0d19b",
   "metadata": {},
   "outputs": [
    {
     "name": "stdout",
     "output_type": "stream",
     "text": [
      "                                             Film  Year Rotten 100\n",
      "16                                       Parasite  2019          6\n",
      "18  Lord of the Rings: The Fellowship of the Ring  2001   unranked\n",
      "22                              Avengers: Endgame  2019          7\n"
     ]
    }
   ],
   "source": [
    "print(recent)"
   ]
  },
  {
   "cell_type": "code",
   "execution_count": null,
   "id": "15d20bca-2f78-497b-8e6f-c46b4a7f1cc1",
   "metadata": {},
   "outputs": [],
   "source": []
  }
 ],
 "metadata": {
  "kernelspec": {
   "display_name": "anaconda-panel-2023.05-py310",
   "language": "python",
   "name": "conda-env-anaconda-panel-2023.05-py310-py"
  },
  "language_info": {
   "codemirror_mode": {
    "name": "ipython",
    "version": 3
   },
   "file_extension": ".py",
   "mimetype": "text/x-python",
   "name": "python",
   "nbconvert_exporter": "python",
   "pygments_lexer": "ipython3",
   "version": "3.11.5"
  }
 },
 "nbformat": 4,
 "nbformat_minor": 5
}
